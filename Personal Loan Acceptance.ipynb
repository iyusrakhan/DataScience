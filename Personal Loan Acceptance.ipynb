{
 "cells": [
  {
   "cell_type": "code",
   "execution_count": 2,
   "id": "a3039ed0",
   "metadata": {},
   "outputs": [
    {
     "name": "stdout",
     "output_type": "stream",
     "text": [
      "               age\n",
      "count  41188.00000\n",
      "mean      40.02406\n",
      "std       10.42125\n",
      "min       17.00000\n",
      "25%       32.00000\n",
      "50%       38.00000\n",
      "75%       47.00000\n",
      "max       98.00000\n"
     ]
    }
   ],
   "source": [
    "import pandas as pd\n",
    "import matplotlib.pyplot as plt\n",
    "from sklearn.preprocessing import StandardScaler\n",
    "from sklearn.linear_model import LogisticRegression\n",
    "from sklearn.model_selection import train_test_split\n",
    "from sklearn.metrics import accuracy_score, confusion_matrix, classification_report\n",
    "\n",
    "df = pd.read_csv(\"bank-additional-full.csv\", sep=';')  # UCI bank dataset uses ; separator\n",
    "\n",
    "print(df[['age', 'job', 'marital']].describe())"
   ]
  },
  {
   "cell_type": "code",
   "execution_count": 3,
   "id": "7818387c",
   "metadata": {},
   "outputs": [],
   "source": [
    "y = df['y'].map({'yes': 1, 'no': 0})\n",
    "\n",
    "X = pd.get_dummies(df.drop('y', axis=1), drop_first=True) \n",
    "\n",
    "scaler = StandardScaler()\n",
    "X_scaled = scaler.fit_transform(X)"
   ]
  },
  {
   "cell_type": "code",
   "execution_count": 4,
   "id": "f0b5198c",
   "metadata": {},
   "outputs": [
    {
     "name": "stdout",
     "output_type": "stream",
     "text": [
      "✅ Accuracy: 0.9113862588006798\n",
      "\n",
      "📊 Confusion Matrix:\n",
      " [[7105  198]\n",
      " [ 532  403]]\n",
      "\n",
      "📝 Classification Report:\n",
      "               precision    recall  f1-score   support\n",
      "\n",
      "           0       0.93      0.97      0.95      7303\n",
      "           1       0.67      0.43      0.52       935\n",
      "\n",
      "    accuracy                           0.91      8238\n",
      "   macro avg       0.80      0.70      0.74      8238\n",
      "weighted avg       0.90      0.91      0.90      8238\n",
      "\n"
     ]
    }
   ],
   "source": [
    "X_train, X_test, y_train, y_test = train_test_split(\n",
    "    X_scaled, y, test_size=0.2, random_state=42\n",
    ")\n",
    "\n",
    "model = LogisticRegression(\n",
    "    max_iter=1000,\n",
    "    C=0.5,               # Controls regularization strength\n",
    "    solver='liblinear',  # Good for small to mid datasets\n",
    "    penalty='l2'         # L2 regularization (Ridge)\n",
    ")\n",
    "\n",
    "model.fit(X_train, y_train)\n",
    "\n",
    "y_pred = model.predict(X_test)\n",
    "\n",
    "print(\"✅ Accuracy:\", accuracy_score(y_test, y_pred))\n",
    "print(\"\\n📊 Confusion Matrix:\\n\", confusion_matrix(y_test, y_pred))\n",
    "print(\"\\n📝 Classification Report:\\n\", classification_report(y_test, y_pred))"
   ]
  },
  {
   "cell_type": "code",
   "execution_count": 6,
   "id": "f9f1cc99",
   "metadata": {},
   "outputs": [
    {
     "name": "stdout",
     "output_type": "stream",
     "text": [
      "Loan acceptance rates by job:\n",
      " job\n",
      "student          31.428571\n",
      "retired          25.232558\n",
      "unemployed       14.201183\n",
      "admin.           12.972558\n",
      "management       11.217510\n",
      "unknown          11.212121\n",
      "technician       10.826042\n",
      "self-employed    10.485574\n",
      "housemaid        10.000000\n",
      "entrepreneur      8.516484\n",
      "services          8.138070\n",
      "blue-collar       6.894316\n",
      "Name: yes, dtype: float64\n"
     ]
    }
   ],
   "source": [
    "acceptance_by_job = df.groupby(\"job\")[\"y\"].value_counts(normalize=True).unstack()['yes'] * 100\n",
    "print(\"Loan acceptance rates by job:\\n\", acceptance_by_job.sort_values(ascending=False))"
   ]
  },
  {
   "cell_type": "code",
   "execution_count": 7,
   "id": "1b14c959",
   "metadata": {},
   "outputs": [
    {
     "name": "stdout",
     "output_type": "stream",
     "text": [
      "Loan acceptance rates by education:\n",
      " job\n",
      "student          31.428571\n",
      "retired          25.232558\n",
      "unemployed       14.201183\n",
      "admin.           12.972558\n",
      "management       11.217510\n",
      "unknown          11.212121\n",
      "technician       10.826042\n",
      "self-employed    10.485574\n",
      "housemaid        10.000000\n",
      "entrepreneur      8.516484\n",
      "services          8.138070\n",
      "blue-collar       6.894316\n",
      "Name: yes, dtype: float64\n"
     ]
    }
   ],
   "source": [
    "acceptance_by_education = df.groupby(\"education\")[\"y\"].value_counts(normalize=True).unstack()['yes'] * 100\n",
    "print(\"Loan acceptance rates by education:\\n\", acceptance_by_job.sort_values(ascending=False))"
   ]
  },
  {
   "cell_type": "markdown",
   "id": "c231e651",
   "metadata": {},
   "source": [
    "Analysis shows that students (31%), retired individuals (25%), and the unemployed (14%) were the most likely to accept the personal loan offer. These groups may be more receptive due to their limited or irregular income streams. In contrast, blue-collar workers (6.9%), entrepreneurs, and services staff had the lowest acceptance rates, possibly due to lower trust in financial products or existing financial constraints."
   ]
  },
  {
   "cell_type": "code",
   "execution_count": 8,
   "id": "833c837d",
   "metadata": {},
   "outputs": [
    {
     "name": "stdout",
     "output_type": "stream",
     "text": [
      "                        Feature  Coefficient\n",
      "1                      duration     1.202538\n",
      "6                cons.price.idx     1.093903\n",
      "8                     euribor3m     0.613639\n",
      "38                    month_aug     0.282367\n",
      "42                    month_mar     0.225432\n",
      "9                   nr.employed     0.186687\n",
      "52             poutcome_success     0.156999\n",
      "51         poutcome_nonexistent     0.147374\n",
      "7                 cons.conf.idx     0.083215\n",
      "29  education_university.degree     0.078284\n",
      "              Feature  Coefficient\n",
      "15  job_self-employed    -0.051292\n",
      "10    job_blue-collar    -0.082058\n",
      "31    default_unknown    -0.112053\n",
      "41          month_jun    -0.122427\n",
      "44          month_nov    -0.128785\n",
      "2            campaign    -0.138329\n",
      "3               pdays    -0.190758\n",
      "43          month_may    -0.241569\n",
      "37  contact_telephone    -0.304799\n",
      "5        emp.var.rate    -2.477794\n"
     ]
    }
   ],
   "source": [
    "import numpy as np\n",
    "\n",
    "feature_names = X.columns\n",
    "coefficients = model.coef_[0]\n",
    "\n",
    "coef_df = pd.DataFrame({\n",
    "    \"Feature\": feature_names,\n",
    "    \"Coefficient\": coefficients\n",
    "}).sort_values(by=\"Coefficient\", ascending=False)\n",
    "\n",
    "print(coef_df.head(10))   \n",
    "print(coef_df.tail(10))   "
   ]
  },
  {
   "cell_type": "markdown",
   "id": "3d80f600",
   "metadata": {},
   "source": [
    "Based on logistic regression coefficients, customers with a successful past campaign, contacted in August, and having a university degree are significantly more likely to accept a personal loan offer. Conversely, those contacted via telephone, in May, or with repeated campaign calls tend to be less responsive. The duration of the call is the strongest predictor, but it can only be used after the contact is made."
   ]
  }
 ],
 "metadata": {
  "kernelspec": {
   "display_name": "Python 3 (ipykernel)",
   "language": "python",
   "name": "python3"
  },
  "language_info": {
   "codemirror_mode": {
    "name": "ipython",
    "version": 3
   },
   "file_extension": ".py",
   "mimetype": "text/x-python",
   "name": "python",
   "nbconvert_exporter": "python",
   "pygments_lexer": "ipython3",
   "version": "3.9.13"
  }
 },
 "nbformat": 4,
 "nbformat_minor": 5
}
